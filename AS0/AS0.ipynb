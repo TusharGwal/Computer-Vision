{
  "nbformat": 4,
  "nbformat_minor": 0,
  "metadata": {
    "colab": {
      "provenance": []
    },
    "kernelspec": {
      "name": "python3",
      "display_name": "Python 3"
    },
    "language_info": {
      "name": "python"
    }
  },
  "cells": [
    {
      "cell_type": "markdown",
      "source": [
        "CS512 - Computer Vision - Assignment 0\n",
        "\n",
        "Submitted by-\n",
        "\n",
        "Tushar Gwal\n",
        "A20449419"
      ],
      "metadata": {
        "id": "UxiyEVOUqEms"
      }
    },
    {
      "cell_type": "code",
      "source": [
        "#Necesary libraries for operations\n",
        "import numpy as np\n",
        "from random import randint, uniform,random\n",
        "import math\n",
        "import sympy as sp\n"
      ],
      "metadata": {
        "id": "EmNTqIxVpGOV"
      },
      "execution_count": 21,
      "outputs": []
    },
    {
      "cell_type": "markdown",
      "source": [
        "# Part A: Vector Operations"
      ],
      "metadata": {
        "id": "BlL6GFAxNIn0"
      }
    },
    {
      "cell_type": "code",
      "source": [
        "# Lets define the given vectors\n",
        "p = np.array([2, -1, 4])\n",
        "q = np.array([0, 3, 5])\n",
        "r = np.array([1, -2, 2])\n",
        "\n",
        "# 1. 3p+2q\n",
        "r1 = 3 * p + 2 * q\n",
        "print(\"1. 3p+2q =\", r1)\n",
        "\n",
        "# 2. p^: a unit vector in the direction of p\n",
        "p_u = p / np.linalg.norm(p)\n",
        "print(\"2. p^ =\", p_u)\n",
        "\n",
        "# 3. |p| and the angle of p relative to the positive y-axis\n",
        "p_n = np.linalg.norm(p)\n",
        "angle_y = np.arccos(p[1] / p_n)\n",
        "print(\"3. |p| =\", p_n)\n",
        "print(\"3. Angle of p relative to the positive y-axis =\", np.degrees(angle_y), \"degrees\")\n",
        "\n",
        "# 4. The direction cosines of p\n",
        "direction_cosines = p / p_n\n",
        "print(\"4. Direction cosines of p =\", direction_cosines)\n",
        "\n",
        "# 5. The angle between p and q\n",
        "pq = np.dot(p, q)\n",
        "angle_pq = np.arccos(pq / (np.linalg.norm(p) * np.linalg.norm(q)))\n",
        "print(\"5. Angle between p and q =\", np.degrees(angle_pq), \"degrees\")\n",
        "\n",
        "# 6. p.q and q.p\n",
        "pq = np.dot(p, q)\n",
        "qp = np.dot(q, p)\n",
        "print(\"6. p.q =\", pq)\n",
        "print(\"6. q.p =\", qp)\n",
        "\n",
        "# 7. p.q using the angle between p and q\n",
        "pq_angle = np.linalg.norm(p) * np.linalg.norm(q) * np.cos(angle_pq)\n",
        "print(\"7. p.q using the angle between p and q =\", pq_angle)\n",
        "\n",
        "# 8. The scalar projection of q onto p^\n",
        "projection = np.dot(q, p_u)\n",
        "print(\"8. Scalar projection of q onto p^ =\", projection)\n",
        "\n",
        "# 9. A vector that is perpendicular to p\n",
        "perpendicular = np.cross(p, np.array([1, 0, 0]))\n",
        "print(\"9. Vector perpendicular to p =\", perpendicular)\n",
        "\n",
        "# 10. p x q and q x p\n",
        "pxq = np.cross(p, q)\n",
        "qxq = np.cross(q, p)\n",
        "print(\"10. p x q =\", pxq)\n",
        "print(\"10. q x p =\", qxq)\n",
        "\n",
        "# 11. A vector that is perpendicular to both p and q\n",
        "perpendicular_both = np.cross(p, q)\n",
        "print(\"11. Vector perpendicular to both p and q =\", perpendicular_both)\n",
        "\n",
        "# 12. The linear dependency between p, q, and r\n",
        "mat = np.array([p, q, r]).T\n",
        "det = np.linalg.det(mat)\n",
        "if det != 0:\n",
        "    print(\"12. p, q, and r are not linearly independent\")\n",
        "else:\n",
        "    print(\"12. p, q, and r are linearly dependent\")\n",
        "\n",
        "# 13. Ptq and pqt (here t is transpose)\n",
        "\n",
        "p = np.array([2, -1, 4])\n",
        "q = np.array([0, 3, 5])\n",
        "\n",
        "pqt = np.outer(p, q)\n",
        "ptq = np.dot(p.T, q)\n",
        "\n",
        "print(\"p.q^T =\", pqt)\n",
        "print(\"p^T.q =\", ptq)"
      ],
      "metadata": {
        "colab": {
          "base_uri": "https://localhost:8080/"
        },
        "id": "p8Gyf92rNT_v",
        "outputId": "fbb852e4-da6b-419b-c201-90052f74517b"
      },
      "execution_count": 35,
      "outputs": [
        {
          "output_type": "stream",
          "name": "stdout",
          "text": [
            "1. 3p+2q = [ 6  3 22]\n",
            "2. p^ = [ 0.43643578 -0.21821789  0.87287156]\n",
            "3. |p| = 4.58257569495584\n",
            "3. Angle of p relative to the positive y-axis = 102.60438264837919 degrees\n",
            "4. Direction cosines of p = [ 0.43643578 -0.21821789  0.87287156]\n",
            "5. Angle between p and q = 50.490287713806076 degrees\n",
            "6. p.q = 17\n",
            "6. q.p = 17\n",
            "7. p.q using the angle between p and q = 17.0\n",
            "8. Scalar projection of q onto p^ = 3.709704134011871\n",
            "9. Vector perpendicular to p = [0 4 1]\n",
            "10. p x q = [-17 -10   6]\n",
            "10. q x p = [17 10 -6]\n",
            "11. Vector perpendicular to both p and q = [-17 -10   6]\n",
            "12. p, q, and r are not linearly independent\n",
            "p.q^T = [[ 0  6 10]\n",
            " [ 0 -3 -5]\n",
            " [ 0 12 20]]\n",
            "p^T.q = 17\n"
          ]
        }
      ]
    },
    {
      "cell_type": "markdown",
      "source": [
        "# Part B: Matrix Operations"
      ],
      "metadata": {
        "id": "by9_0k1CC1Xx"
      }
    },
    {
      "cell_type": "code",
      "source": [
        "# lets  define the given values\n",
        "X = np.array([[2, 1, 0], [-1, 3, 4], [3, 2, -2]])\n",
        "Y = np.array([[4, -1, 2], [3, 0, -3], [1, 2, 1]])\n",
        "Z = np.array([[2, 0, -1], [1, 4, 5], [3, 1, 2]])\n",
        "S = np.array([-1, 4, 0])\n",
        "\n",
        "# 1. X + 2Y\n",
        "r1 = X + 2 * Y\n",
        "print(\"1. X + 2Y =\\n\", r1)\n",
        "\n",
        "# 2. XY and YX\n",
        "XY = np.dot(X, Y)\n",
        "YX = np.dot(Y, X)\n",
        "print(\"2. XY =\\n\", XY)\n",
        "print(\"   YX =\\n\", YX)\n",
        "\n",
        "# 3. |XY|t and YtXt\n",
        "XY_t = np.transpose(XY)\n",
        "Y_t_X_t = np.dot(np.transpose(Y), np.transpose(X))\n",
        "print(\"3. |XY|t =\\n\", XY_t)\n",
        "print(\"   YtXt =\\n\", Y_t_X_t)\n",
        "\n",
        "# 4. |X| and |Z|\n",
        "det_X = np.linalg.det(X)\n",
        "det_Z = np.linalg.det(Z)\n",
        "print(\"4. |X| =\", det_X)\n",
        "print(\"   |Z| =\", det_Z)\n",
        "\n",
        "# 5. The matrix (either X, Y, or Z) in which the row vectors form an orthogonal set\n",
        "#checks if the dot product of each pair of rows is zero, it it is true then the matrix is orthogonal and return value\n",
        "def is_ortho(mt):\n",
        "    for i in range(len(mat)):\n",
        "        for j in range(i + 1, len(mt)):\n",
        "            if np.dot(mt[i], mt[j]) == 0:\n",
        "                print(\"5. Found a matrix: \\n\", mt)\n",
        "                print(f\" here rows {i+1} and {j+1} are orthogonal.\")\n",
        "                return\n",
        "\n",
        "is_ortho(X)\n",
        "is_ortho(Y)\n",
        "is_ortho(Z)\n",
        "\n",
        "# 6. x^-1 and Y^-1\n",
        "if det_X != 0:\n",
        "    X_inv = np.linalg.inv(X)\n",
        "    print(\"6. X^-1 =\\n\", X_inv)\n",
        "else:\n",
        "    print(\"6. X is not invertible.\")\n",
        "det_Y = np.linalg.det(Y)\n",
        "if det_Y != 0:\n",
        "    Y_inv = np.linalg.inv(Y)\n",
        "    print(\"   Y^-1 =\\n\", Y_inv)\n",
        "else:\n",
        "    print(\"   Y is not invertible.\")\n",
        "\n",
        "# 7. Z^-1\n",
        "if det_Z != 0:\n",
        "    Z_inv = np.linalg.inv(Z)\n",
        "    print(\"7. Z^-1 =\\n\", Z_inv)\n",
        "else:\n",
        "    print(\"7. Z is not invertible.\")\n",
        "\n",
        "# 8. Xs\n",
        "XS = np.dot(X, S)\n",
        "print(\"8. X s =\\n\", XS)\n",
        "\n",
        "# 9. The scalar projection of the rows of X onto the vector s (with s normalized)\n",
        "S_nmlz = S / np.linalg.norm(S)\n",
        "scal_p = np.dot(X, S_nmlz)\n",
        "print(\"9. Scalar projection of rows of X onto s =\\n\", scal_p)\n",
        "\n",
        "# 10. The vector projection of the rows of X onto the vector s (with s normalized)\n",
        "vec_p = np.outer(scal_p, S_nmlz)\n",
        "print(\"10. Vector projection of rows of X onto s =\\n\", vec_p)\n",
        "\n",
        "# 11. The linear combination of the columns of X using the elements of s\n",
        "lin_c = np.dot(X, S)\n",
        "print(\"11. Linear combination of columns of X using s =\\n\", lin_c)\n",
        "\n",
        "# 12. The solution t for the equation Y t = s\n",
        "t = np.linalg.solve(Y, S)\n",
        "print(\"12. Solution t for Y t = s is \\n\", t)\n",
        "\n",
        "# 13. The solution t for the equation Z t = s and the reason for it\n",
        "if det_Z != 0:\n",
        "    t = np.linalg.solve(Z, S)\n",
        "    print(\"13. Solution t for Z t = s is \\n\", t)\n",
        "else:\n",
        "    print(\"13. No solution exists for Z t = s because Z is not invertible.\")"
      ],
      "metadata": {
        "colab": {
          "base_uri": "https://localhost:8080/"
        },
        "id": "pcT1KjiVBd-z",
        "outputId": "7264b766-60e2-4236-b83e-fa853f983d26"
      },
      "execution_count": 57,
      "outputs": [
        {
          "output_type": "stream",
          "name": "stdout",
          "text": [
            "1. X + 2Y =\n",
            " [[10 -1  4]\n",
            " [ 5  3 -2]\n",
            " [ 5  6  0]]\n",
            "2. XY =\n",
            " [[11 -2  1]\n",
            " [ 9  9 -7]\n",
            " [16 -7 -2]]\n",
            "   YX =\n",
            " [[15  5 -8]\n",
            " [-3 -3  6]\n",
            " [ 3  9  6]]\n",
            "3. |XY|t =\n",
            " [[11  9 16]\n",
            " [-2  9 -7]\n",
            " [ 1 -7 -2]]\n",
            "   YtXt =\n",
            " [[11  9 16]\n",
            " [-2  9 -7]\n",
            " [ 1 -7 -2]]\n",
            "4. |X| = -17.999999999999996\n",
            "   |Z| = 17.0\n",
            "5. Found a matrix: \n",
            " [[ 4 -1  2]\n",
            " [ 3  0 -3]\n",
            " [ 1  2  1]]\n",
            " here rows 2 and 3 are orthogonal.\n",
            "6. X^-1 =\n",
            " [[ 0.77777778 -0.11111111 -0.22222222]\n",
            " [-0.55555556  0.22222222  0.44444444]\n",
            " [ 0.61111111  0.05555556 -0.38888889]]\n",
            "   Y^-1 =\n",
            " [[ 0.14285714  0.11904762  0.07142857]\n",
            " [-0.14285714  0.04761905  0.42857143]\n",
            " [ 0.14285714 -0.21428571  0.07142857]]\n",
            "7. Z^-1 =\n",
            " [[ 0.17647059 -0.05882353  0.23529412]\n",
            " [ 0.76470588  0.41176471 -0.64705882]\n",
            " [-0.64705882 -0.11764706  0.47058824]]\n",
            "8. X s =\n",
            " [ 2 13  5]\n",
            "9. Scalar projection of rows of X onto s =\n",
            " [0.48507125 3.15296313 1.21267813]\n",
            "10. Vector projection of rows of X onto s =\n",
            " [[-0.11764706  0.47058824  0.        ]\n",
            " [-0.76470588  3.05882353  0.        ]\n",
            " [-0.29411765  1.17647059  0.        ]]\n",
            "11. Linear combination of columns of X using s =\n",
            " [ 2 13  5]\n",
            "12. Solution t for Y t = s is \n",
            " [ 0.33333333  0.33333333 -1.        ]\n",
            "13. Solution t for Z t = s is \n",
            " [-0.41176471  0.88235294  0.17647059]\n"
          ]
        }
      ]
    },
    {
      "cell_type": "markdown",
      "source": [
        "# Part C: Eigenvalues and Eigenvectors"
      ],
      "metadata": {
        "id": "O2O1e6nXDExZ"
      }
    },
    {
      "cell_type": "markdown",
      "source": [
        "1. The eigenvalues and corresponding eigenvectors of M"
      ],
      "metadata": {
        "id": "67E93kHDIQ0g"
      }
    },
    {
      "cell_type": "code",
      "source": [
        "M = np.array([[3, 2], [-1, 4]])\n",
        "\n",
        "e_values, e_vectors = np.linalg.eig(M)\n",
        "\n",
        "print(\"Eigenvalues of M:\", e_values)\n",
        "print(\"Eigenvectors of M:\", e_vectors)"
      ],
      "metadata": {
        "colab": {
          "base_uri": "https://localhost:8080/"
        },
        "id": "GGbDxN_sIUe4",
        "outputId": "3b26684e-7b2d-4bb5-b7c2-4d946562e2de"
      },
      "execution_count": 59,
      "outputs": [
        {
          "output_type": "stream",
          "name": "stdout",
          "text": [
            "Eigenvalues of M: [3.5+1.32287566j 3.5-1.32287566j]\n",
            "Eigenvectors of M: [[0.81649658+0.j         0.81649658-0.j        ]\n",
            " [0.20412415+0.54006172j 0.20412415-0.54006172j]]\n"
          ]
        }
      ]
    },
    {
      "cell_type": "markdown",
      "source": [
        "2. The dot product between the eigenvectors of M"
      ],
      "metadata": {
        "id": "lx7aJcRsIdWX"
      }
    },
    {
      "cell_type": "code",
      "source": [
        "e_vect1 = e_vectors[:, 0]\n",
        "e_vect2 = e_vectors[:, 1]\n",
        "\n",
        "dp = np.dot(e_vect1, e_vect2)\n",
        "print(\"Dot product between eigenvectors of M:\", dp)"
      ],
      "metadata": {
        "colab": {
          "base_uri": "https://localhost:8080/"
        },
        "id": "opsJyZa1IeDv",
        "outputId": "208ceb31-5944-4b34-ee59-c54f47dbd031"
      },
      "execution_count": 60,
      "outputs": [
        {
          "output_type": "stream",
          "name": "stdout",
          "text": [
            "Dot product between eigenvectors of M: (1.0000000000000002+0j)\n"
          ]
        }
      ]
    },
    {
      "cell_type": "markdown",
      "source": [
        "3. The dot product between the eigenvectors of N"
      ],
      "metadata": {
        "id": "jpL3joVlIuQH"
      }
    },
    {
      "cell_type": "code",
      "source": [
        "N = np.array([[5, -3], [-3, 6]])\n",
        "\n",
        "e_values, e_vectors = np.linalg.eig(N)\n",
        "\n",
        "e_vect1 = e_vectors[:, 0]\n",
        "e_vect2 = e_vectors[:, 1]\n",
        "\n",
        "dp = np.dot(e_vect1, e_vect2)\n",
        "print(\"Dot product between eigenvectors of N:\", dot_product)"
      ],
      "metadata": {
        "colab": {
          "base_uri": "https://localhost:8080/"
        },
        "id": "1kr5pRa_Iu-G",
        "outputId": "fe230e99-4fe7-4788-dffc-d3899682412a"
      },
      "execution_count": 62,
      "outputs": [
        {
          "output_type": "stream",
          "name": "stdout",
          "text": [
            "Dot product between eigenvectors of N: 17\n"
          ]
        }
      ]
    },
    {
      "cell_type": "markdown",
      "source": [
        "4. The property of the eigenvectors of N and the reason for it"
      ],
      "metadata": {
        "id": "_dcgkCmAJAiv"
      }
    },
    {
      "cell_type": "code",
      "source": [
        "print(\"Eigenvectors of N are orthogonal because N is a symmetric matrix.\")"
      ],
      "metadata": {
        "colab": {
          "base_uri": "https://localhost:8080/"
        },
        "id": "YzUZuSu_JBPr",
        "outputId": "e5debbd6-6c16-4aeb-87d6-34396d242280"
      },
      "execution_count": 14,
      "outputs": [
        {
          "output_type": "stream",
          "name": "stdout",
          "text": [
            "Eigenvectors of N are orthogonal because N is a symmetric matrix.\n"
          ]
        }
      ]
    },
    {
      "cell_type": "markdown",
      "source": [
        "5. The value of a trivial solution t to the equation Pt=0"
      ],
      "metadata": {
        "id": "wbeuplgwJZWF"
      }
    },
    {
      "cell_type": "code",
      "source": [
        "t_trivial = np.array([0, 0])\n",
        "print(\"Trivial solution to Pt=0:\", t_trivial)"
      ],
      "metadata": {
        "colab": {
          "base_uri": "https://localhost:8080/"
        },
        "id": "MyZVJoSrJbwC",
        "outputId": "4c35830e-e5dc-47a8-9784-d80cf0d3c31f"
      },
      "execution_count": 15,
      "outputs": [
        {
          "output_type": "stream",
          "name": "stdout",
          "text": [
            "Trivial solution to Pt=0: [0 0]\n"
          ]
        }
      ]
    },
    {
      "cell_type": "markdown",
      "source": [
        "6. The value of two non-trivial solutions t to the equation Pt=0"
      ],
      "metadata": {
        "id": "O317dz2DJ9gL"
      }
    },
    {
      "cell_type": "code",
      "source": [
        "P = sp.Matrix([[2, 4], [4, 8]])\n",
        "\n",
        "null_space = P.nullspace()\n",
        "print(\"Non-trivial solutions to Pt=0:\", null_space)"
      ],
      "metadata": {
        "colab": {
          "base_uri": "https://localhost:8080/"
        },
        "id": "mtZLKF3zKAGX",
        "outputId": "82713ae2-1ba0-4ec3-d8fb-c8a24101cd18"
      },
      "execution_count": 19,
      "outputs": [
        {
          "output_type": "stream",
          "name": "stdout",
          "text": [
            "Non-trivial solutions to Pt=0: [Matrix([\n",
            "[-2],\n",
            "[ 1]])]\n"
          ]
        }
      ]
    },
    {
      "cell_type": "markdown",
      "source": [
        "7. The only solution t to the equation M t=0 and the reason for having a single solution"
      ],
      "metadata": {
        "id": "DIsR5s_3KKSe"
      }
    },
    {
      "cell_type": "code",
      "source": [
        "print(\"The only solution to Mt=0 is t=[0, 0] because M is an invertible matrix.\")"
      ],
      "metadata": {
        "colab": {
          "base_uri": "https://localhost:8080/"
        },
        "id": "GlAzu8QVKJ2T",
        "outputId": "a2c73404-29d8-4f83-c7af-f75e72841ace"
      },
      "execution_count": 17,
      "outputs": [
        {
          "output_type": "stream",
          "name": "stdout",
          "text": [
            "The only solution to Mt=0 is t=[0, 0] because M is an invertible matrix.\n"
          ]
        }
      ]
    },
    {
      "cell_type": "markdown",
      "source": [
        "# Part D: Neural Networks Basics"
      ],
      "metadata": {
        "id": "IEHZ2s5xFwdY"
      }
    },
    {
      "cell_type": "markdown",
      "source": [
        "1. Compute the output of the neuron before applying any activation function"
      ],
      "metadata": {
        "id": "FQ-EI5vCF6Dm"
      }
    },
    {
      "cell_type": "code",
      "source": [
        "x1 = 0.5\n",
        "x2 = -0.8\n",
        "x3 = 0.3\n",
        "w1 = 0.4\n",
        "w2 = -0.6\n",
        "w3 = 0.9\n",
        "b = 0.2\n",
        "\n",
        "z = w1 * x1 + w2 * x2 + w3 * x3 + b\n",
        "print(\"Output before activation z =\", z)"
      ],
      "metadata": {
        "colab": {
          "base_uri": "https://localhost:8080/"
        },
        "id": "x0RxXhMEFyuN",
        "outputId": "83a327a3-8e45-490e-ed9b-ff9a8fca471d"
      },
      "execution_count": 73,
      "outputs": [
        {
          "output_type": "stream",
          "name": "stdout",
          "text": [
            "Output before activation z = 1.15\n"
          ]
        }
      ]
    },
    {
      "cell_type": "markdown",
      "source": [
        "2. Apply the sigmoid activation function"
      ],
      "metadata": {
        "id": "9ces4cpbGGe8"
      }
    },
    {
      "cell_type": "code",
      "source": [
        "def sigmoid(x):\n",
        "    return 1 / (1 + math.exp(-x))\n",
        "\n",
        "out2 = z  # taken from previous question\n",
        "act2 = sigmoid(out2)\n",
        "print(\"Activation value:\", act2)"
      ],
      "metadata": {
        "colab": {
          "base_uri": "https://localhost:8080/"
        },
        "id": "-11sXvmyGJUw",
        "outputId": "eaa365f2-012b-4adb-acb0-9849e9cdb634"
      },
      "execution_count": 75,
      "outputs": [
        {
          "output_type": "stream",
          "name": "stdout",
          "text": [
            "Activation value: 0.759510916949111\n"
          ]
        }
      ]
    },
    {
      "cell_type": "markdown",
      "source": [
        "3. Compute the output of the neuron after applying a ReLU activation function"
      ],
      "metadata": {
        "id": "KEkDjUoFGivO"
      }
    },
    {
      "cell_type": "code",
      "source": [
        "def relu(x):\n",
        "    return max(0, x)\n",
        "\n",
        "x1 = 0.5\n",
        "x2 = -0.8\n",
        "x3 = 0.3\n",
        "w1 = 0.4\n",
        "w2 = -0.6\n",
        "w3 = 0.9\n",
        "b = 0.2\n",
        "\n",
        "out3 = w1 * x1 + w2 * x2 + w3 * x3 + b\n",
        "act3 = relu(out3)\n",
        "print(\"Activation value (ReLU):\", act3)"
      ],
      "metadata": {
        "colab": {
          "base_uri": "https://localhost:8080/"
        },
        "id": "oHH5qlWeGnoS",
        "outputId": "9f1d6685-19bd-46ae-f090-8a4d0d7294dd"
      },
      "execution_count": 76,
      "outputs": [
        {
          "output_type": "stream",
          "name": "stdout",
          "text": [
            "Activation value (ReLU): 1.15\n"
          ]
        }
      ]
    },
    {
      "cell_type": "markdown",
      "source": [
        "4. Compute the output of the layer using ReLU activation"
      ],
      "metadata": {
        "id": "5Mt3aFCOHLGQ"
      }
    },
    {
      "cell_type": "code",
      "source": [
        "W = np.array([[0.4, 0.3], [0.2, 0.7]])\n",
        "b = np.array([0.1, -0.1])\n",
        "x = np.array([1, 2])\n",
        "\n",
        "def relu(x):\n",
        "    return np.maximum(x, 0)\n",
        "\n",
        "out4 = np.dot(W, x) + b\n",
        "act4 = relu(out4)\n",
        "print(\"Output of the layer (ReLU):\", act4)"
      ],
      "metadata": {
        "colab": {
          "base_uri": "https://localhost:8080/"
        },
        "id": "9_TJ9T0RHL9P",
        "outputId": "a48d0417-a694-499c-b45e-0cf3f508c584"
      },
      "execution_count": 79,
      "outputs": [
        {
          "output_type": "stream",
          "name": "stdout",
          "text": [
            "Output of the layer (ReLU): [1.1 1.5]\n"
          ]
        }
      ]
    },
    {
      "cell_type": "markdown",
      "source": [
        "5. Compute the output of the layer using sigmoid activation"
      ],
      "metadata": {
        "id": "ByKeI4fQHS5-"
      }
    },
    {
      "cell_type": "code",
      "source": [
        "W = np.array([0.5, -0.3])\n",
        "b = np.array([0, 1])\n",
        "x = act4 # taken from previous question\n",
        "\n",
        "def sigmoid(x):\n",
        "    return 1 / (1 + np.exp(-x))\n",
        "\n",
        "out5 = np.dot(W, x) + b\n",
        "act5 = sigmoid(out5)\n",
        "print(\"Output of the layer (sigmoid):\", act5)"
      ],
      "metadata": {
        "colab": {
          "base_uri": "https://localhost:8080/"
        },
        "id": "3_tL3AaqHTln",
        "outputId": "03eeac7a-d9a8-4c86-bac0-9000752964a1"
      },
      "execution_count": 80,
      "outputs": [
        {
          "output_type": "stream",
          "name": "stdout",
          "text": [
            "Output of the layer (sigmoid): [0.52497919 0.75026011]\n"
          ]
        }
      ]
    }
  ]
}